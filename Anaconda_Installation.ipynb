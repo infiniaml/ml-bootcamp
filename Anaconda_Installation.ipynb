{
 "cells": [
  {
   "cell_type": "markdown",
   "metadata": {},
   "source": [
    "# Anaconda Installation"
   ]
  },
  {
   "cell_type": "markdown",
   "metadata": {},
   "source": [
    "A walkthrough to install Anaconda for Ubuntu (Linux), Mac, and Windows. If you already have Anaconda on your machine and feel confident in your installation, you can skip this notebook.\n",
    "\n",
    "For the purposes of this tutorial, I'm recommending using Anaconda as your Python distribution and for managing your environments. If you'd rather use some other distribution or version of Python and feel confident in your abilities, you may also choose to just follow the instructions here: https://www.tensorflow.org/install/.\n",
    "\n",
    "This tutorial is broken up by operating system (OS). Pick the instructions for the OS that you plan to use:"
   ]
  },
  {
   "cell_type": "markdown",
   "metadata": {},
   "source": [
    "## Ubuntu"
   ]
  },
  {
   "cell_type": "markdown",
   "metadata": {},
   "source": [
    "1. Download and install Anaconda\n",
    "\n",
    "    1.1 Go [here](https://www.anaconda.com/download/) and click on the Python 3.7 installer matching your system's architecture (likely 64-bit X86).\n",
    "    \n",
    "    1.2 Navigate to your downloads directory in a terminal and run the installer:\n",
    "    \n",
    "    ```Shell\n",
    "    cd ~/Downloads/\n",
    "    bash Anaconda3-5.3.0-Linux-x86_64.sh \n",
    "    ```\n",
    "    \n",
    "    1.3 If the Anaconda installer gives the option to prepend itself to PATH, we recommend that you do, as it'll allow you to run the below `conda` commands from anywhere.\n",
    "\n",
    "    1.4 Run `conda --version` and verify that the command runs correctly, showing something like \"conda 4.5.11\"."
   ]
  },
  {
   "cell_type": "markdown",
   "metadata": {},
   "source": [
    "## Windows"
   ]
  },
  {
   "cell_type": "markdown",
   "metadata": {},
   "source": [
    "1. Download and install Anaconda\n",
    "\n",
    "    1.1 Go [here](https://www.anaconda.com/download/) and click on the Python 3.7 installer matching your system's architecture (likely 64-bit X86).\n",
    "    \n",
    "    1.2 Open the installer from your downloads folder and run it by double clicking on it. \n",
    "    \n",
    "    1.3 Follow the installer's instructions. Make sure to enable the option to make Anaconda your default Python. Also, although the Anaconda installer recommends you don't let it prepend itself to PATH, doing so allows you to call the `conda` commands below from anywhere, which can be very convenient.\n",
    "    \n",
    "    1.4 Run `conda --version` and verify that the command runs correctly, showing something like \"conda 4.5.11\"."
   ]
  },
  {
   "cell_type": "markdown",
   "metadata": {},
   "source": [
    "## Mac OS X"
   ]
  },
  {
   "cell_type": "markdown",
   "metadata": {},
   "source": [
    "1. Download and install Anaconda\n",
    "\n",
    "    1.1 Go [here](https://www.anaconda.com/download/) and click on the command line Python 3.7 installer.\n",
    "    \n",
    "    1.2 Navigate to your downloads directory in a terminal and run the installer:\n",
    "    \n",
    "    ```Shell\n",
    "    cd ~/Downloads/\n",
    "    bash Anaconda3-5.3.0-MacOSX-x86_64.sh\n",
    "    ```\n",
    "    \n",
    "    1.3 If the Anaconda installer gives the option to prepend itself to PATH, we recommend that you do, as it'll allow you to run the below `conda` commands from anywhere.\n",
    "\n",
    "    1.4 Run `conda --version` and verify that the command runs correctly, showing something like \"conda 4.5.11\"."
   ]
  }
 ],
 "metadata": {
  "kernelspec": {
   "display_name": "Python 3",
   "language": "python",
   "name": "python3"
  },
  "language_info": {
   "codemirror_mode": {
    "name": "ipython",
    "version": 3
   },
   "file_extension": ".py",
   "mimetype": "text/x-python",
   "name": "python",
   "nbconvert_exporter": "python",
   "pygments_lexer": "ipython3",
   "version": "3.6.7"
  }
 },
 "nbformat": 4,
 "nbformat_minor": 2
}
