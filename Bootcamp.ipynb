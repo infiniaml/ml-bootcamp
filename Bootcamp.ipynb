{
 "cells": [
  {
   "cell_type": "markdown",
   "metadata": {},
   "source": [
    "# Introduction to Deep Learning with TensorFlow + Keras"
   ]
  },
  {
   "cell_type": "markdown",
   "metadata": {},
   "source": [
    "Note: If running this notebook directly, make sure you are running your Jupyter kernel in an environment with TensorFlow installed."
   ]
  },
  {
   "cell_type": "code",
   "execution_count": 1,
   "metadata": {
    "collapsed": true
   },
   "outputs": [
    {
     "name": "stdout",
     "output_type": "stream",
     "text": [
      "Requirement already satisfied: tensorflow in /Users/matt.scruggs/anaconda3/envs/tensorflow/lib/python3.6/site-packages (1.11.0)\n",
      "Requirement already satisfied: numpy in /Users/matt.scruggs/anaconda3/envs/tensorflow/lib/python3.6/site-packages (1.15.3)\n",
      "Requirement already satisfied: matplotlib in /Users/matt.scruggs/anaconda3/envs/tensorflow/lib/python3.6/site-packages (3.0.1)\n",
      "Requirement already satisfied: tqdm in /Users/matt.scruggs/anaconda3/envs/tensorflow/lib/python3.6/site-packages (4.28.1)\n",
      "Requirement already satisfied: termcolor>=1.1.0 in /Users/matt.scruggs/anaconda3/envs/tensorflow/lib/python3.6/site-packages (from tensorflow) (1.1.0)\n",
      "Requirement already satisfied: gast>=0.2.0 in /Users/matt.scruggs/anaconda3/envs/tensorflow/lib/python3.6/site-packages (from tensorflow) (0.2.0)\n",
      "Requirement already satisfied: keras-preprocessing>=1.0.3 in /Users/matt.scruggs/anaconda3/envs/tensorflow/lib/python3.6/site-packages (from tensorflow) (1.0.5)\n",
      "Requirement already satisfied: tensorboard<1.12.0,>=1.11.0 in /Users/matt.scruggs/anaconda3/envs/tensorflow/lib/python3.6/site-packages (from tensorflow) (1.11.0)\n",
      "Requirement already satisfied: six>=1.10.0 in /Users/matt.scruggs/anaconda3/envs/tensorflow/lib/python3.6/site-packages (from tensorflow) (1.11.0)\n",
      "Requirement already satisfied: astor>=0.6.0 in /Users/matt.scruggs/anaconda3/envs/tensorflow/lib/python3.6/site-packages (from tensorflow) (0.7.1)\n",
      "Requirement already satisfied: keras-applications>=1.0.5 in /Users/matt.scruggs/anaconda3/envs/tensorflow/lib/python3.6/site-packages (from tensorflow) (1.0.6)\n",
      "Requirement already satisfied: protobuf>=3.6.0 in /Users/matt.scruggs/anaconda3/envs/tensorflow/lib/python3.6/site-packages (from tensorflow) (3.6.0)\n",
      "Requirement already satisfied: wheel>=0.26 in /Users/matt.scruggs/anaconda3/envs/tensorflow/lib/python3.6/site-packages (from tensorflow) (0.32.2)\n",
      "Requirement already satisfied: grpcio>=1.8.6 in /Users/matt.scruggs/anaconda3/envs/tensorflow/lib/python3.6/site-packages (from tensorflow) (1.12.1)\n",
      "Requirement already satisfied: setuptools<=39.1.0 in /Users/matt.scruggs/anaconda3/envs/tensorflow/lib/python3.6/site-packages (from tensorflow) (39.1.0)\n",
      "Requirement already satisfied: absl-py>=0.1.6 in /Users/matt.scruggs/anaconda3/envs/tensorflow/lib/python3.6/site-packages (from tensorflow) (0.5.0)\n",
      "Requirement already satisfied: cycler>=0.10 in /Users/matt.scruggs/anaconda3/envs/tensorflow/lib/python3.6/site-packages (from matplotlib) (0.10.0)\n",
      "Requirement already satisfied: kiwisolver>=1.0.1 in /Users/matt.scruggs/anaconda3/envs/tensorflow/lib/python3.6/site-packages (from matplotlib) (1.0.1)\n",
      "Requirement already satisfied: pyparsing!=2.0.4,!=2.1.2,!=2.1.6,>=2.0.1 in /Users/matt.scruggs/anaconda3/envs/tensorflow/lib/python3.6/site-packages (from matplotlib) (2.2.2)\n",
      "Requirement already satisfied: python-dateutil>=2.1 in /Users/matt.scruggs/anaconda3/envs/tensorflow/lib/python3.6/site-packages (from matplotlib) (2.7.3)\n",
      "Requirement already satisfied: markdown>=2.6.8 in /Users/matt.scruggs/anaconda3/envs/tensorflow/lib/python3.6/site-packages (from tensorboard<1.12.0,>=1.11.0->tensorflow) (3.0.1)\n",
      "Requirement already satisfied: werkzeug>=0.11.10 in /Users/matt.scruggs/anaconda3/envs/tensorflow/lib/python3.6/site-packages (from tensorboard<1.12.0,>=1.11.0->tensorflow) (0.14.1)\n",
      "Requirement already satisfied: h5py in /Users/matt.scruggs/anaconda3/envs/tensorflow/lib/python3.6/site-packages (from keras-applications>=1.0.5->tensorflow) (2.8.0)\n",
      "\u001b[33mYou are using pip version 18.0, however version 18.1 is available.\n",
      "You should consider upgrading via the 'pip install --upgrade pip' command.\u001b[0m\n"
     ]
    }
   ],
   "source": [
    "# Beginning a line with \"!\" allows you to execute a command in your terminal\n",
    "# You'll need to install these packages if you don't have them already.\n",
    "# Ideally these are already installed using `conda env create` (see environment.yml)\n",
    "!pip install tensorflow numpy matplotlib tqdm "
   ]
  },
  {
   "cell_type": "code",
   "execution_count": 2,
   "metadata": {},
   "outputs": [],
   "source": [
    "# import required packages\n",
    "import matplotlib.pyplot as plt\n",
    "import numpy as np\n",
    "import tensorflow as tf\n",
    "from tensorflow import keras\n",
    "\n",
    "# optional packages\n",
    "try:\n",
    "    # provides nice progress bars\n",
    "    from tqdm import trange\n",
    "except ImportError:\n",
    "    trange = range"
   ]
  },
  {
   "cell_type": "markdown",
   "metadata": {},
   "source": [
    "### Basic TensorFlow test from the installation instructions"
   ]
  },
  {
   "cell_type": "code",
   "execution_count": 3,
   "metadata": {},
   "outputs": [
    {
     "name": "stdout",
     "output_type": "stream",
     "text": [
      "b'Hello, TensorFlow!'\n"
     ]
    }
   ],
   "source": [
    "import tensorflow as tf\n",
    "hello = tf.constant(\"Hello, TensorFlow!\")\n",
    "sess = tf.Session()\n",
    "print(sess.run(hello))"
   ]
  },
  {
   "cell_type": "markdown",
   "metadata": {},
   "source": [
    "### Download required dataset - PLEASE DO IN ADVANCE"
   ]
  },
  {
   "cell_type": "code",
   "execution_count": 4,
   "metadata": {},
   "outputs": [
    {
     "name": "stdout",
     "output_type": "stream",
     "text": [
      "CIFAR10 train_images shape: (50000, 32, 32, 3)\n",
      "CIFAR10 train_labels shape: (50000, 1)\n",
      "CIFAR10 test_images shape: (10000, 32, 32, 3)\n",
      "CIFAR10 test_labels shape: (10000, 1)\n"
     ]
    }
   ],
   "source": [
    "# for Section 2 - CNNs\n",
    "(train_images, train_labels), (test_images, test_labels) = keras.datasets.cifar10.load_data()\n",
    "\n",
    "print(f\"CIFAR10 train_images shape: {train_images.shape}\")\n",
    "print(f\"CIFAR10 train_labels shape: {train_labels.shape}\")\n",
    "\n",
    "print(f\"CIFAR10 test_images shape: {test_images.shape}\")\n",
    "print(f\"CIFAR10 test_labels shape: {test_labels.shape}\")"
   ]
  },
  {
   "cell_type": "code",
   "execution_count": null,
   "metadata": {},
   "outputs": [],
   "source": []
  },
  {
   "cell_type": "code",
   "execution_count": null,
   "metadata": {},
   "outputs": [],
   "source": []
  },
  {
   "cell_type": "code",
   "execution_count": null,
   "metadata": {},
   "outputs": [],
   "source": []
  },
  {
   "cell_type": "code",
   "execution_count": null,
   "metadata": {},
   "outputs": [],
   "source": []
  },
  {
   "cell_type": "code",
   "execution_count": null,
   "metadata": {},
   "outputs": [],
   "source": []
  },
  {
   "cell_type": "code",
   "execution_count": null,
   "metadata": {},
   "outputs": [],
   "source": []
  },
  {
   "cell_type": "code",
   "execution_count": null,
   "metadata": {},
   "outputs": [],
   "source": []
  },
  {
   "cell_type": "code",
   "execution_count": null,
   "metadata": {},
   "outputs": [],
   "source": []
  },
  {
   "cell_type": "code",
   "execution_count": null,
   "metadata": {},
   "outputs": [],
   "source": []
  },
  {
   "cell_type": "code",
   "execution_count": null,
   "metadata": {},
   "outputs": [],
   "source": []
  },
  {
   "cell_type": "code",
   "execution_count": null,
   "metadata": {},
   "outputs": [],
   "source": []
  },
  {
   "cell_type": "code",
   "execution_count": null,
   "metadata": {},
   "outputs": [],
   "source": []
  },
  {
   "cell_type": "markdown",
   "metadata": {},
   "source": [
    "# 1. Neural Networks with TensorFlow and Keras"
   ]
  },
  {
   "cell_type": "code",
   "execution_count": null,
   "metadata": {},
   "outputs": [],
   "source": []
  },
  {
   "cell_type": "markdown",
   "metadata": {},
   "source": [
    "# 2. Convolutional Neural Networks (CNNs)"
   ]
  },
  {
   "cell_type": "code",
   "execution_count": null,
   "metadata": {},
   "outputs": [],
   "source": []
  },
  {
   "cell_type": "markdown",
   "metadata": {},
   "source": [
    "# 3. Saving, loading, and re-using trained models"
   ]
  },
  {
   "cell_type": "code",
   "execution_count": null,
   "metadata": {},
   "outputs": [],
   "source": []
  },
  {
   "cell_type": "code",
   "execution_count": null,
   "metadata": {},
   "outputs": [],
   "source": []
  },
  {
   "cell_type": "code",
   "execution_count": null,
   "metadata": {},
   "outputs": [],
   "source": []
  },
  {
   "cell_type": "code",
   "execution_count": null,
   "metadata": {},
   "outputs": [],
   "source": []
  },
  {
   "cell_type": "code",
   "execution_count": null,
   "metadata": {},
   "outputs": [],
   "source": []
  },
  {
   "cell_type": "code",
   "execution_count": null,
   "metadata": {},
   "outputs": [],
   "source": []
  },
  {
   "cell_type": "code",
   "execution_count": null,
   "metadata": {},
   "outputs": [],
   "source": []
  },
  {
   "cell_type": "code",
   "execution_count": null,
   "metadata": {},
   "outputs": [],
   "source": []
  },
  {
   "cell_type": "code",
   "execution_count": null,
   "metadata": {},
   "outputs": [],
   "source": []
  },
  {
   "cell_type": "code",
   "execution_count": null,
   "metadata": {},
   "outputs": [],
   "source": []
  },
  {
   "cell_type": "code",
   "execution_count": null,
   "metadata": {},
   "outputs": [],
   "source": []
  },
  {
   "cell_type": "code",
   "execution_count": null,
   "metadata": {},
   "outputs": [],
   "source": []
  },
  {
   "cell_type": "code",
   "execution_count": null,
   "metadata": {},
   "outputs": [],
   "source": []
  },
  {
   "cell_type": "code",
   "execution_count": null,
   "metadata": {},
   "outputs": [],
   "source": []
  },
  {
   "cell_type": "code",
   "execution_count": null,
   "metadata": {},
   "outputs": [],
   "source": []
  },
  {
   "cell_type": "code",
   "execution_count": null,
   "metadata": {},
   "outputs": [],
   "source": []
  },
  {
   "cell_type": "code",
   "execution_count": null,
   "metadata": {},
   "outputs": [],
   "source": []
  },
  {
   "cell_type": "code",
   "execution_count": null,
   "metadata": {},
   "outputs": [],
   "source": []
  },
  {
   "cell_type": "code",
   "execution_count": null,
   "metadata": {},
   "outputs": [],
   "source": []
  },
  {
   "cell_type": "code",
   "execution_count": null,
   "metadata": {},
   "outputs": [],
   "source": []
  },
  {
   "cell_type": "markdown",
   "metadata": {},
   "source": [
    "#### extra code 'n stuff"
   ]
  },
  {
   "cell_type": "code",
   "execution_count": null,
   "metadata": {},
   "outputs": [],
   "source": [
    "def load_cifar10_local(path: str):\n",
    "    \"\"\"\n",
    "    Loads CIFAR10 dataset from a local extraction of the original file:\n",
    "        https://www.cs.toronto.edu/~kriz/cifar-10-python.tar.gz\n",
    "    \n",
    "    Args:\n",
    "      path (str): path to directory containing extracted contents of cifar-10-python.tar.gz\n",
    "    \n",
    "    Returns:\n",
    "        Tuple of Numpy arrays: `(x_train, y_train), (x_test, y_test)`.\n",
    "    \"\"\"\n",
    "    # bad practice to import inside functions, I just want to ensure these \n",
    "    # are imported for the sake of the demo\n",
    "    import os\n",
    "    import numpy as np\n",
    "    from tensorflow.python.keras import backend as K\n",
    "    from tensorflow.python.keras.datasets.cifar import load_batch\n",
    "    \n",
    "    num_train_samples = 50000\n",
    "\n",
    "    x_train = np.empty((num_train_samples, 3, 32, 32), dtype='uint8')\n",
    "    y_train = np.empty((num_train_samples,), dtype='uint8')\n",
    "\n",
    "    for i in range(1, 6):\n",
    "        fpath = os.path.join(path, f'data_batch_{i}')\n",
    "        (x_train[(i - 1) * 10000:i * 10000, :, :, :],\n",
    "         y_train[(i - 1) * 10000:i * 10000]) = load_batch(fpath)\n",
    "\n",
    "    fpath = os.path.join(path, 'test_batch')\n",
    "    x_test, y_test = load_batch(fpath)\n",
    "\n",
    "    y_train = np.reshape(y_train, (len(y_train), 1))\n",
    "    y_test = np.reshape(y_test, (len(y_test), 1))\n",
    "\n",
    "    if K.image_data_format() == 'channels_last':\n",
    "        x_train = x_train.transpose(0, 2, 3, 1)\n",
    "        x_test = x_test.transpose(0, 2, 3, 1)\n",
    "\n",
    "    return (x_train, y_train), (x_test, y_test)"
   ]
  }
 ],
 "metadata": {
  "kernelspec": {
   "display_name": "Python 3",
   "language": "python",
   "name": "python3"
  },
  "language_info": {
   "codemirror_mode": {
    "name": "ipython",
    "version": 3
   },
   "file_extension": ".py",
   "mimetype": "text/x-python",
   "name": "python",
   "nbconvert_exporter": "python",
   "pygments_lexer": "ipython3",
   "version": "3.6.7"
  }
 },
 "nbformat": 4,
 "nbformat_minor": 2
}
