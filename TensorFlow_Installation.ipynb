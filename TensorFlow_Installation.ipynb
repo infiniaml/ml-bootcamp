{
 "cells": [
  {
   "cell_type": "markdown",
   "metadata": {},
   "source": [
    "# TensorFlow Installation"
   ]
  },
  {
   "cell_type": "markdown",
   "metadata": {},
   "source": [
    "A walkthrough to install TensorFlow for Python 3.6. If you already have TensorFlow on your machine and feel confident in your installation, you can go ahead and skip this notebook.\n",
    "\n",
    "For the purposes of this tutorial, I'm recommending using Anaconda as your Python distribution and for managing your environments. If you'd rather use some other distribution or version of Python and feel confident in your abilities, you may also choose to just follow the instructions here: https://www.tensorflow.org/install/.\n",
    "\n",
    "This tutorial is broken up by operating system (OS). Pick the instructions for the OS that you plan to use, and then check your install:"
   ]
  },
  {
   "cell_type": "markdown",
   "metadata": {},
   "source": [
    "### Contents\n",
    "1. Ubuntu\n",
    "2. Windows\n",
    "3. Mac OS X\n",
    "4. Verify TensorFlow Installation"
   ]
  },
  {
   "cell_type": "markdown",
   "metadata": {},
   "source": [
    "## Ubuntu"
   ]
  },
  {
   "cell_type": "markdown",
   "metadata": {},
   "source": [
    "1. Download and install Anaconda\n",
    "\n",
    "    1.1 Go [here](https://www.anaconda.com/download/) and click on the Python 3.7 installer matching your system's architecture (likely 64-bit X86).\n",
    "    \n",
    "    1.2 Navigate to your downloads directory in a terminal and run the installer:\n",
    "    \n",
    "    ```Shell\n",
    "    cd ~/Downloads/\n",
    "    bash Anaconda3-5.3.0-Linux-x86_64.sh \n",
    "    ```\n",
    "    \n",
    "    1.3 If the Anaconda installer gives the option to prepend itself to PATH, we recommend that you do, as it'll allow you to run the below `conda` commands from anywhere.\n",
    "\n",
    "2. In a terminal, create a conda environment for TensorFlow:\n",
    "\n",
    "    ```Shell\n",
    "    conda create -n tensorflow python = 3.6\n",
    "    ```\n",
    "    \n",
    "    *Note: This should install with Python 3.6. This is what we want for this tutorial, but if for some reason you'd like to use a different version, modifying \"python=[x.x]\" will instead create a environment with Python version [x.x] (eg 2.7, 3.5).*\n",
    "    \n",
    "3. Activate your new environment:\n",
    "\n",
    "    ```Shell\n",
    "    source activate tensorflow\n",
    "    ```\n",
    "    \n",
    "    You will see your prompt prepend `(tensorflow)` to indicate that you are in your `tensorflow` environment.\n",
    "    \n",
    "    *Note: You will have to re-activate your environment each time you open a new terminal.*\n",
    "\n",
    "4. Install either the CPU version or GPU version of TensorFlow:\n",
    "\n",
    "    CPU: *(Recommended as sufficient for this class)*\n",
    "    ```Shell\n",
    "    pip install --ignore-installed --upgrade tensorflow\n",
    "    ```\n",
    "    \n",
    "    GPU: (You'll also need to install some [Nvidia software](https://www.tensorflow.org/install/install_linux#nvidia_requirements_to_run_tensorflow_with_gpu_support))\n",
    "    ```Shell\n",
    "    pip install --ignore-installed --upgrade tensorflow-gpu\n",
    "    ```\n",
    "\n",
    "    *Note: If you have GPUs available, you should use the GPU version for any serious research, as it is often 10-25x faster. For the purposes of this demo though, the CPU version is sufficent.*\n",
    "    \n",
    "5. Additional packages to install (optional, but recommended):\n",
    "    \n",
    "    These aren't strictly required to build TensorFlow models, but some handy packages that are used in some of the notebooks for this class:\n",
    "    \n",
    "    ```Shell\n",
    "    pip install matplotlib jupyter tqdm\n",
    "    ```\n",
    "    \n",
    "    `matplotlib` is a Python library for MATLAB-style plotting, `jupyter` is an application for editting/running IPython notebooks in a web browser, and `tqdm` is nice package for generating progress bars."
   ]
  },
  {
   "cell_type": "markdown",
   "metadata": {},
   "source": [
    "## Windows"
   ]
  },
  {
   "cell_type": "markdown",
   "metadata": {},
   "source": [
    "1. Download and install Anaconda\n",
    "\n",
    "    1.1 Go [here](https://www.anaconda.com/download/) and click on the Python 3.7 installer matching your system's architecture (likely 64-bit X86).\n",
    "    \n",
    "    1.2 Open the installer from your downloads folder and run it by double clicking on it. \n",
    "    \n",
    "    1.3 Follow the installer's instructions. Make sure to enable the option to make Anaconda your default Python. Also, although the Anaconda installer recommends you don't let it prepend itself to PATH, doing so allows you to call the `conda` commands below from anywhere, which can be very convenient.\n",
    "    \n",
    "2. Open a Command Prompt and create a conda environment for TensorFlow:\n",
    "\n",
    "    ```Shell\n",
    "    conda create -n tensorflow python = 3.6\n",
    "    ```\n",
    "    *Note: This should install with Python 3.6. This is what we want for this tutorial, but if for some reason you'd like to use a different version, modifying \"python=[x.x]\" will instead create a environment with Python version [x.x] (eg 2.7, 3.5).*\n",
    "    \n",
    "3. Activate your new environment:\n",
    "\n",
    "    ```Shell\n",
    "    activate tensorflow\n",
    "    ```\n",
    "    \n",
    "    You will see your prompt prepend `(tensorflow)` to indicate that you are in your `tensorflow` environment.\n",
    "    \n",
    "    *Note: You will have to re-activate your environment each time you open a new terminal.*\n",
    "\n",
    "4. Install either the CPU version or GPU version of TensorFlow:\n",
    "\n",
    "    CPU: *(Recommended as sufficient for this class)*\n",
    "    ```Shell\n",
    "    pip install --ignore-installed --upgrade tensorflow\n",
    "    ```\n",
    "    \n",
    "    GPU: (You'll also need to install some [Nvidia software](https://www.tensorflow.org/install/install_windows#requirements_to_run_tensorflow_with_gpu_support)\n",
    "    ```Shell\n",
    "    pip install --ignore-installed --upgrade tensorflow-gpu\n",
    "    ```\n",
    "\n",
    "    *Note: If you have GPUs available, you should use the GPU version for any serious research, as it is often 10-25x faster. For the purposes of this demo though, the CPU version is sufficent.*\n",
    "   \n",
    "5. Additional packages to install (optional, but recommended):\n",
    "    \n",
    "    These aren't strictly required to build TensorFlow models, but some handy packages that are used in some of the notebooks for this class:\n",
    "    \n",
    "     ```Shell\n",
    "    pip install matplotlib jupyter tqdm\n",
    "    ```\n",
    "    \n",
    "    `matplotlib` is a Python library for MATLAB-style plotting, `jupyter` is an application for editting/running IPython notebooks in a web browser, and `tqdm` is nice package for generating progress bars."
   ]
  },
  {
   "cell_type": "markdown",
   "metadata": {},
   "source": [
    "## Mac OS X"
   ]
  },
  {
   "cell_type": "markdown",
   "metadata": {},
   "source": [
    "1. Download and install Anaconda\n",
    "\n",
    "    1.1 Go [here](https://www.anaconda.com/download/) and click on the command line Python 3.7 installer.\n",
    "    \n",
    "    1.2 Navigate to your downloads directory in a terminal and run the installer:\n",
    "    \n",
    "    ```Shell\n",
    "    cd ~/Downloads/\n",
    "    bash Anaconda3-5.3.0-MacOSX-x86_64.sh\n",
    "    ```\n",
    "    \n",
    "    1.3 If the Anaconda installer gives the option to prepend itself to PATH, we recommend that you do, as it'll allow you to run the below `conda` commands from anywhere.\n",
    "    \n",
    "\n",
    "2. In a terminal, create a conda environment for TensorFlow:\n",
    "\n",
    "    ```Shell\n",
    "    conda create -n tensorflow python=3.6\n",
    "    ```\n",
    "    \n",
    "    *Note: This installs with Python 3.6. This is what we want for this tutorial, but if for some reason you'd like to use a different version, modifying \"python=[x.x]\" will instead create a environment with Python version [x.x] (eg 2.7, 3.5).*\n",
    "    \n",
    "3. Activate your new environment:\n",
    "\n",
    "    ```Shell\n",
    "    source activate tensorflow\n",
    "    ```\n",
    "    \n",
    "    You will see your prompt prepend `(tensorflow)` to indicate that you are in your `tensorflow` environment.\n",
    "    \n",
    "    *Note: You will have to re-activate your environment each time you open a new terminal.*\n",
    "\n",
    "4. Install the CPU version of TensorFlow:\n",
    "\n",
    "    CPU:\n",
    "    ```Shell\n",
    "    pip install --ignore-installed --upgrade tensorflow\n",
    "    ```\n",
    "    \n",
    "    GPU: Unfortunately, TensorFlow with GPU compatibility is no longer supported on Mac OS X\n",
    "\n",
    "    *Note: If you have them available, you should use a machine with GPUs, as it is often 10-25x faster. For the purposes of this demo though, the CPU version is sufficent.*\n",
    "    \n",
    "5. Additional packages to install (optional, but recommended):\n",
    "    \n",
    "    These aren't strictly required to build TensorFlow models, but some handy packages that are used in some of the notebooks for this class:\n",
    "    \n",
    "     ```Shell\n",
    "    pip install matplotlib jupyter tqdm\n",
    "    ```\n",
    "    \n",
    "    `matplotlib` is a Python library for MATLAB-style plotting, `jupyter` is an application for editting/running IPython notebooks in a web browser, and `tqdm` is nice package for generating progress bars."
   ]
  },
  {
   "cell_type": "markdown",
   "metadata": {},
   "source": [
    "## Verify TensorFlow Installation"
   ]
  },
  {
   "cell_type": "markdown",
   "metadata": {},
   "source": [
    "1. While in your `tensorflow` environment, enter the Python shell with:\n",
    "    \n",
    "    ```Shell\n",
    "    python\n",
    "    ```\n",
    "    \n",
    "    \n",
    "    Verify that your python version says Python 3.6.[x].\n",
    "    \n",
    "2. Enter this program into your Python shell:\n",
    "\n",
    "    ```Shell\n",
    "    import tensorflow as tf\n",
    "    hello = tf.constant('Hello, TensorFlow!')\n",
    "    sess = tf.Session()\n",
    "    print(sess.run(hello))\n",
    "    ```\n",
    "    \n",
    "    Possible warnings that `The TensorFlow library wasn't compiled to use * instructions` can be ignored. These warnings state that building from source can lead to speed improvements, but these won't make a dramatic difference for these demos.\n",
    "    \n",
    "    Your command line should return:\n",
    "    \n",
    "    ```Shell\n",
    "    b'Hello, TensorFlow!'\n",
    "    ```   "
   ]
  }
 ],
 "metadata": {
  "kernelspec": {
   "display_name": "Python 3",
   "language": "python",
   "name": "python3"
  },
  "language_info": {
   "codemirror_mode": {
    "name": "ipython",
    "version": 3
   },
   "file_extension": ".py",
   "mimetype": "text/x-python",
   "name": "python",
   "nbconvert_exporter": "python",
   "pygments_lexer": "ipython3",
   "version": "3.6.5"
  }
 },
 "nbformat": 4,
 "nbformat_minor": 2
}
