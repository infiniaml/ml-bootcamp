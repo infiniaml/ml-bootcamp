{
 "cells": [
  {
   "cell_type": "markdown",
   "metadata": {},
   "source": [
    "# Convolutional Neural Networks\n",
    "\n",
    "While fully connected neural networks are based on the standard multiplication operator (every input feature is multiplied by a weight parameter in the network layer), Convolutional Neural Networks (CNNs) are based on the idea of *convolutional filters* (or kernels) that act as \"feature extractors\" that pull out certain characteristics in an image (e.g. edge detection).\n",
    "\n",
    "![](assets/wolf_convolution.png)\n",
    "\n",
    "There are many convolutional filters that can extract different features in images. Before we discuss how to incorporate convolutions into a deep neural network, let's look at the convolution operation. Given an input image represented as an array of pixel values, the convolution operation is as follows:\n",
    "\n",
    "![](assets/conv.png)\n",
    "\n",
    "From this we can see that the number of parameters (i.e. the number of elements in the kernel) does not depend on the input size of the image (whereas the number of parameters in fully connected neural networks depend on the number of input features). The full convolutional step is completed by \"sliding\" this kernel across the entire image one row and columns at a time. The output of this operation is called a *feature map*.\n",
    "\n",
    "The overall idea of a convolutional neural network is to apply many of these filters (or kernels) to an image in order to extract different kinds of features; these filters are then stacked sequentially so that many layers act on the output of previous layers. This allows the network to learn more and more complex shapes and features of the input images. After a number of convolutional layers we can then unroll the feature map into a vector. This vector can be thought of as a new set of features for an image. These feature vectors are then fed through a small fully connected neural network to obtain classification probabilities.\n",
    "\n",
    "![](assets/cnn_arch.png)\n",
    "\n",
    "While it is not shown in the figure above, many CNNs contain pooling layers between blocks of convolutional layers. Pooling layers reduce the size of the feature maps by different aggregation methods (mean, max, etc.)  applied to blocks of the feature maps. For example, max-pooling is a common option:\n",
    "\n",
    "![](assets/maxpool.png)\n",
    "\n",
    "**Note:** Many of the figures above are from [this](https://towardsdatascience.com/demystifying-convolutional-neural-networks-384785791596) very good introductory article."
   ]
  },
  {
   "cell_type": "code",
   "execution_count": 1,
   "metadata": {},
   "outputs": [],
   "source": [
    "%matplotlib inline\n",
    "%config InlineBackend.figure_format = 'retina'"
   ]
  },
  {
   "cell_type": "code",
   "execution_count": 2,
   "metadata": {},
   "outputs": [],
   "source": [
    "import os\n",
    "os.environ[\"KMP_DUPLICATE_LIB_OK\"] = \"TRUE\"\n",
    "\n",
    "import numpy as np\n",
    "import matplotlib.pyplot as plt\n",
    "import tensorflow as tf"
   ]
  },
  {
   "cell_type": "markdown",
   "metadata": {},
   "source": [
    "## Download CIFAR10 data\n",
    "\n",
    "The CIFAR 10 dataset contains low resolution images of 10 different categories."
   ]
  },
  {
   "cell_type": "code",
   "execution_count": 3,
   "metadata": {},
   "outputs": [],
   "source": [
    "LABEL_NAMES = ['airplane', 'automobile', 'bird', 'cat', 'deer', 'dog', 'frog', 'horse', 'ship', 'truck']"
   ]
  },
  {
   "cell_type": "code",
   "execution_count": 4,
   "metadata": {},
   "outputs": [],
   "source": [
    "(x_train, y_train), (x_test, y_test) = tf.keras.datasets.cifar10.load_data()"
   ]
  },
  {
   "cell_type": "code",
   "execution_count": null,
   "metadata": {},
   "outputs": [],
   "source": [
    "plt.imshow(x_train[3])\n",
    "plt.title(LABEL_NAMES[y_train[3,0]]);"
   ]
  },
  {
   "cell_type": "code",
   "execution_count": null,
   "metadata": {},
   "outputs": [],
   "source": []
  },
  {
   "cell_type": "code",
   "execution_count": null,
   "metadata": {},
   "outputs": [],
   "source": []
  },
  {
   "cell_type": "code",
   "execution_count": null,
   "metadata": {},
   "outputs": [],
   "source": []
  },
  {
   "cell_type": "code",
   "execution_count": null,
   "metadata": {},
   "outputs": [],
   "source": []
  },
  {
   "cell_type": "code",
   "execution_count": null,
   "metadata": {},
   "outputs": [],
   "source": []
  },
  {
   "cell_type": "code",
   "execution_count": null,
   "metadata": {},
   "outputs": [],
   "source": []
  },
  {
   "cell_type": "code",
   "execution_count": null,
   "metadata": {},
   "outputs": [],
   "source": []
  },
  {
   "cell_type": "code",
   "execution_count": null,
   "metadata": {},
   "outputs": [],
   "source": []
  },
  {
   "cell_type": "code",
   "execution_count": null,
   "metadata": {},
   "outputs": [],
   "source": []
  },
  {
   "cell_type": "code",
   "execution_count": null,
   "metadata": {},
   "outputs": [],
   "source": []
  },
  {
   "cell_type": "code",
   "execution_count": null,
   "metadata": {},
   "outputs": [],
   "source": []
  },
  {
   "cell_type": "markdown",
   "metadata": {},
   "source": [
    "## Simple(ish) CNN model\n",
    "\n",
    "Here we will build a small convolutional neural network using a familiar block pattern of CONV -> CONV -> MAXPOOL -> DROPOUT. This network has two such blocks followed by a fully connected layer with RELU activation followed by a softmax output layer. In terms of modern CNNs, this model is quite small but should obtain reasonable results with a fairly short training time (i.e., 10s / epoch on GPU and 4 min / epoch on CPU)"
   ]
  },
  {
   "cell_type": "code",
   "execution_count": 6,
   "metadata": {},
   "outputs": [],
   "source": [
    "# Define the model\n",
    "model = tf.keras.models.Sequential()\n",
    "\n",
    "model.add(tf.keras.layers.Conv2D(32, kernel_size=(3, 3), activation='relu', padding='same', input_shape=(32, 32, 3)))\n",
    "model.add(tf.keras.layers.Conv2D(32, kernel_size=(3, 3), activation='relu', padding='same'))\n",
    "model.add(tf.keras.layers.MaxPooling2D(pool_size=(2, 2)))\n",
    "model.add(tf.keras.layers.Dropout(0.25))\n",
    "\n",
    "model.add(tf.keras.layers.Conv2D(64, kernel_size=(3, 3), activation='relu', padding='same'))\n",
    "model.add(tf.keras.layers.Conv2D(64, kernel_size=(3, 3), activation='relu', padding='same'))\n",
    "model.add(tf.keras.layers.MaxPooling2D(pool_size=(2, 2)))\n",
    "model.add(tf.keras.layers.Dropout(0.25))\n",
    "\n",
    "model.add(tf.keras.layers.Flatten())\n",
    "model.add(tf.keras.layers.Dense(512, activation='relu'))\n",
    "model.add(tf.keras.layers.Dropout(0.5))\n",
    "model.add(tf.keras.layers.Dense(10, activation='softmax'))\n",
    "\n",
    "# Compile the model\n",
    "model.compile(loss='sparse_categorical_crossentropy',optimizer=tf.keras.optimizers.Adam(), metrics=['accuracy'])"
   ]
  },
  {
   "cell_type": "code",
   "execution_count": null,
   "metadata": {
    "scrolled": false
   },
   "outputs": [],
   "source": [
    "model.summary()"
   ]
  },
  {
   "cell_type": "code",
   "execution_count": 8,
   "metadata": {
    "collapsed": true
   },
   "outputs": [
    {
     "name": "stdout",
     "output_type": "stream",
     "text": [
      "Train on 50000 samples, validate on 10000 samples\n",
      "Epoch 1/30\n",
      "50000/50000 [==============================] - 11s 224us/step - loss: 1.5722 - acc: 0.4232 - val_loss: 1.1894 - val_acc: 0.5726\n",
      "Epoch 2/30\n",
      "50000/50000 [==============================] - 9s 175us/step - loss: 1.1218 - acc: 0.6008 - val_loss: 0.9573 - val_acc: 0.6601\n",
      "Epoch 3/30\n",
      "50000/50000 [==============================] - 9s 181us/step - loss: 0.9526 - acc: 0.6651 - val_loss: 0.8689 - val_acc: 0.6957\n",
      "Epoch 4/30\n",
      "50000/50000 [==============================] - 9s 178us/step - loss: 0.8416 - acc: 0.7037 - val_loss: 0.7610 - val_acc: 0.7324\n",
      "Epoch 5/30\n",
      "50000/50000 [==============================] - 9s 179us/step - loss: 0.7660 - acc: 0.7306 - val_loss: 0.7338 - val_acc: 0.7462\n",
      "Epoch 6/30\n",
      "50000/50000 [==============================] - 9s 173us/step - loss: 0.7083 - acc: 0.7516 - val_loss: 0.7384 - val_acc: 0.7454\n",
      "Epoch 7/30\n",
      "50000/50000 [==============================] - 9s 177us/step - loss: 0.6597 - acc: 0.7683 - val_loss: 0.6730 - val_acc: 0.7693\n",
      "Epoch 8/30\n",
      "50000/50000 [==============================] - 9s 176us/step - loss: 0.6116 - acc: 0.7851 - val_loss: 0.6611 - val_acc: 0.7720\n",
      "Epoch 9/30\n",
      "50000/50000 [==============================] - 9s 176us/step - loss: 0.5766 - acc: 0.7972 - val_loss: 0.6521 - val_acc: 0.7765\n",
      "Epoch 10/30\n",
      "50000/50000 [==============================] - 9s 174us/step - loss: 0.5485 - acc: 0.8070 - val_loss: 0.6340 - val_acc: 0.7857\n",
      "Epoch 11/30\n",
      "50000/50000 [==============================] - 9s 172us/step - loss: 0.5114 - acc: 0.8204 - val_loss: 0.6473 - val_acc: 0.7777\n",
      "Epoch 12/30\n",
      "50000/50000 [==============================] - 9s 171us/step - loss: 0.4885 - acc: 0.8282 - val_loss: 0.6642 - val_acc: 0.7817\n",
      "Epoch 13/30\n",
      "50000/50000 [==============================] - 9s 175us/step - loss: 0.4640 - acc: 0.8358 - val_loss: 0.6309 - val_acc: 0.7875\n",
      "Epoch 14/30\n",
      "50000/50000 [==============================] - 9s 174us/step - loss: 0.4469 - acc: 0.8413 - val_loss: 0.6398 - val_acc: 0.7928\n",
      "Epoch 15/30\n",
      "50000/50000 [==============================] - 8s 169us/step - loss: 0.4235 - acc: 0.8494 - val_loss: 0.6436 - val_acc: 0.7894\n",
      "Epoch 16/30\n",
      "50000/50000 [==============================] - 9s 174us/step - loss: 0.4108 - acc: 0.8539 - val_loss: 0.6509 - val_acc: 0.7925\n",
      "Epoch 17/30\n",
      "50000/50000 [==============================] - 8s 169us/step - loss: 0.3951 - acc: 0.8614 - val_loss: 0.6674 - val_acc: 0.7846\n",
      "Epoch 18/30\n",
      "50000/50000 [==============================] - 9s 176us/step - loss: 0.3858 - acc: 0.8633 - val_loss: 0.6818 - val_acc: 0.7848\n",
      "Epoch 19/30\n",
      "50000/50000 [==============================] - 9s 173us/step - loss: 0.3748 - acc: 0.8686 - val_loss: 0.6724 - val_acc: 0.7886\n",
      "Epoch 20/30\n",
      "50000/50000 [==============================] - 8s 168us/step - loss: 0.3549 - acc: 0.8762 - val_loss: 0.6815 - val_acc: 0.7898\n",
      "Epoch 21/30\n",
      "50000/50000 [==============================] - 9s 171us/step - loss: 0.3510 - acc: 0.8761 - val_loss: 0.6714 - val_acc: 0.7911\n",
      "Epoch 22/30\n",
      "50000/50000 [==============================] - 9s 172us/step - loss: 0.3432 - acc: 0.8793 - val_loss: 0.6866 - val_acc: 0.7942\n",
      "Epoch 23/30\n",
      "50000/50000 [==============================] - 9s 172us/step - loss: 0.3383 - acc: 0.8805 - val_loss: 0.6715 - val_acc: 0.7959\n",
      "Epoch 24/30\n",
      "50000/50000 [==============================] - 9s 185us/step - loss: 0.3219 - acc: 0.8855 - val_loss: 0.6927 - val_acc: 0.7897\n",
      "Epoch 25/30\n",
      "50000/50000 [==============================] - 9s 179us/step - loss: 0.3174 - acc: 0.8875 - val_loss: 0.7337 - val_acc: 0.7906\n",
      "Epoch 26/30\n",
      "50000/50000 [==============================] - 9s 182us/step - loss: 0.3148 - acc: 0.8894 - val_loss: 0.6861 - val_acc: 0.7961\n",
      "Epoch 27/30\n",
      "50000/50000 [==============================] - 9s 183us/step - loss: 0.2999 - acc: 0.8942 - val_loss: 0.6782 - val_acc: 0.7947\n",
      "Epoch 28/30\n",
      "50000/50000 [==============================] - 9s 181us/step - loss: 0.2995 - acc: 0.8941 - val_loss: 0.6786 - val_acc: 0.7971\n",
      "Epoch 29/30\n",
      "50000/50000 [==============================] - 9s 175us/step - loss: 0.2905 - acc: 0.8981 - val_loss: 0.7130 - val_acc: 0.7981\n",
      "Epoch 30/30\n",
      "50000/50000 [==============================] - 9s 184us/step - loss: 0.2862 - acc: 0.9004 - val_loss: 0.6994 - val_acc: 0.7969\n"
     ]
    },
    {
     "data": {
      "text/plain": [
       "<tensorflow.python.keras.callbacks.History at 0x7f52e83fccf8>"
      ]
     },
     "execution_count": 8,
     "metadata": {},
     "output_type": "execute_result"
    }
   ],
   "source": [
    "model.fit(x_train / 255, y_train, batch_size=64, shuffle=True, epochs=30, validation_data=(x_test / 255, y_test))"
   ]
  },
  {
   "cell_type": "markdown",
   "metadata": {},
   "source": [
    "Plotting the training and validation accuracies lets us see that the model is not generalizing very well and is overfitting since the training accuracy is larger than the validation accuracy and the validation accuracy has saturated while the training accuracy is continuing to increase with each epoch."
   ]
  },
  {
   "cell_type": "code",
   "execution_count": 12,
   "metadata": {
    "collapsed": true
   },
   "outputs": [
    {
     "data": {
      "text/plain": [
       "<matplotlib.legend.Legend at 0x7f52def13748>"
      ]
     },
     "execution_count": 12,
     "metadata": {},
     "output_type": "execute_result"
    },
    {
     "data": {
      "image/png": "[encoded data removed]",
      "text/plain": [
       "<Figure size 864x288 with 1 Axes>"
      ]
     },
     "metadata": {
      "image/png": {
       "height": 263,
       "width": 722
      },
      "needs_background": "light"
     },
     "output_type": "display_data"
    }
   ],
   "source": [
    "h = model.history.history\n",
    "\n",
    "plt.figure(figsize=(12,4))\n",
    "plt.plot(model.history.epoch, h['acc'], lw=2, label='Training')\n",
    "plt.plot(model.history.epoch, h['val_acc'], lw=2, label='Testing')\n",
    "plt.grid(ls='--')\n",
    "plt.ylabel('Accuracy')\n",
    "plt.xlabel('Epoch')\n",
    "plt.legend()"
   ]
  },
  {
   "cell_type": "markdown",
   "metadata": {},
   "source": [
    "# Making predictions\n",
    "\n",
    "Now we will use our trained model to make predictions. For this classification model the output of the predictions will be a length 10 (number of classes) vector of probabilities corresponding to each class."
   ]
  },
  {
   "cell_type": "code",
   "execution_count": 8,
   "metadata": {},
   "outputs": [],
   "source": [
    "# cooking show magic - load trained weights from repo (training done using cells just above)\n",
    "model.load_weights(\"cnn-weights.h5\")"
   ]
  },
  {
   "cell_type": "code",
   "execution_count": 9,
   "metadata": {},
   "outputs": [],
   "source": [
    "preds = model.predict(x_test / 255)"
   ]
  },
  {
   "cell_type": "markdown",
   "metadata": {},
   "source": [
    "## Look at some correct and incorrect predictions"
   ]
  },
  {
   "cell_type": "code",
   "execution_count": 10,
   "metadata": {},
   "outputs": [],
   "source": [
    "correct_ids = np.argmax(preds, axis=1) == y_test.flatten()\n",
    "xc, yc, ypc = x_test[correct_ids], y_test[correct_ids,0], np.argmax(preds, axis=1)[correct_ids]\n",
    "xi, yi, ypi = x_test[~correct_ids], y_test[~correct_ids, 0], np.argmax(preds, axis=1)[~correct_ids]"
   ]
  },
  {
   "cell_type": "code",
   "execution_count": null,
   "metadata": {},
   "outputs": [],
   "source": [
    "# CORRECT RESULTS\n",
    "plt.figure(figsize=(32,8))\n",
    "for ii in range(5):\n",
    "    plt.subplot(1,5,ii+1)\n",
    "    plt.imshow(xc[ii])\n",
    "    plt.title(LABEL_NAMES[yc[ii]])\n",
    "    plt.title(f'Predicted: {LABEL_NAMES[ypc[ii]]}     Correct: {LABEL_NAMES[yc[ii]]}')"
   ]
  },
  {
   "cell_type": "code",
   "execution_count": null,
   "metadata": {},
   "outputs": [],
   "source": [
    "# INCORRECT RESULTS\n",
    "plt.figure(figsize=(32,8))\n",
    "for ii in range(5):\n",
    "    plt.subplot(1,5,ii+1)\n",
    "    plt.imshow(xi[ii])\n",
    "    plt.title(f'Predicted: {LABEL_NAMES[ypi[ii]]}     Correct: {LABEL_NAMES[yi[ii]]}')"
   ]
  },
  {
   "cell_type": "code",
   "execution_count": null,
   "metadata": {},
   "outputs": [],
   "source": []
  },
  {
   "cell_type": "code",
   "execution_count": null,
   "metadata": {},
   "outputs": [],
   "source": []
  },
  {
   "cell_type": "code",
   "execution_count": null,
   "metadata": {},
   "outputs": [],
   "source": []
  },
  {
   "cell_type": "code",
   "execution_count": null,
   "metadata": {},
   "outputs": [],
   "source": []
  },
  {
   "cell_type": "code",
   "execution_count": null,
   "metadata": {},
   "outputs": [],
   "source": []
  },
  {
   "cell_type": "code",
   "execution_count": null,
   "metadata": {},
   "outputs": [],
   "source": []
  },
  {
   "cell_type": "code",
   "execution_count": null,
   "metadata": {},
   "outputs": [],
   "source": []
  },
  {
   "cell_type": "code",
   "execution_count": null,
   "metadata": {},
   "outputs": [],
   "source": []
  },
  {
   "cell_type": "code",
   "execution_count": null,
   "metadata": {},
   "outputs": [],
   "source": []
  },
  {
   "cell_type": "code",
   "execution_count": null,
   "metadata": {},
   "outputs": [],
   "source": []
  },
  {
   "cell_type": "markdown",
   "metadata": {},
   "source": [
    "# Saving model\n",
    "\n",
    "When saving the model you can either save only the weights or the entire model."
   ]
  },
  {
   "cell_type": "markdown",
   "metadata": {},
   "source": [
    "### Just weights\n",
    "\n",
    "Saving only the weights is more lightweight (in terms of memory) and these weights can usually be transferred between different frameworks (Tensorflow, Pytorch, etc) with minimal effort. One downside of just saving the weights is that you will need to have the model architecture defined prior to loading in the weights."
   ]
  },
  {
   "cell_type": "code",
   "execution_count": 17,
   "metadata": {
    "collapsed": true
   },
   "outputs": [],
   "source": [
    "?model.save_weights"
   ]
  },
  {
   "cell_type": "code",
   "execution_count": null,
   "metadata": {
    "collapsed": true
   },
   "outputs": [],
   "source": [
    "model.save_weights('cnn-weights.h5')"
   ]
  },
  {
   "cell_type": "code",
   "execution_count": 7,
   "metadata": {
    "collapsed": true
   },
   "outputs": [],
   "source": [
    "# load in model weights\n",
    "model.load_weights('cnn-weights.h5')"
   ]
  },
  {
   "cell_type": "markdown",
   "metadata": {},
   "source": [
    "### Entire model\n",
    "\n",
    "Saving the entire model saves the weights, the model architecture, any callbacks and the optimizer. Saving models this way makes it easier to reload your model completely from a file without having to remember the architecture exactly. The downside is that this format cannot be transferred to different frameworks as easily. Furthermore, you may run into problems with code versions and loading in older models. For example, a tensorflow model made with v1.6.0 may not load correctly with 1.11.0."
   ]
  },
  {
   "cell_type": "code",
   "execution_count": 49,
   "metadata": {},
   "outputs": [
    {
     "data": {
      "text/plain": [
       "\u001b[0;31mSignature:\u001b[0m \u001b[0mtf\u001b[0m\u001b[0;34m.\u001b[0m\u001b[0mkeras\u001b[0m\u001b[0;34m.\u001b[0m\u001b[0mmodels\u001b[0m\u001b[0;34m.\u001b[0m\u001b[0msave_model\u001b[0m\u001b[0;34m(\u001b[0m\u001b[0mmodel\u001b[0m\u001b[0;34m,\u001b[0m \u001b[0mfilepath\u001b[0m\u001b[0;34m,\u001b[0m \u001b[0moverwrite\u001b[0m\u001b[0;34m=\u001b[0m\u001b[0;32mTrue\u001b[0m\u001b[0;34m,\u001b[0m \u001b[0minclude_optimizer\u001b[0m\u001b[0;34m=\u001b[0m\u001b[0;32mTrue\u001b[0m\u001b[0;34m)\u001b[0m\u001b[0;34m\u001b[0m\u001b[0m\n",
       "\u001b[0;31mDocstring:\u001b[0m\n",
       "Saves a model to a HDF5 file.\n",
       "\n",
       "The saved model contains:\n",
       "    - the model's configuration (topology)\n",
       "    - the model's weights\n",
       "    - the model's optimizer's state (if any)\n",
       "\n",
       "Thus the saved model can be reinstantiated in\n",
       "the exact same state, without any of the code\n",
       "used for model definition or training.\n",
       "\n",
       "Arguments:\n",
       "    model: Keras model instance to be saved.\n",
       "    filepath: One of the following:\n",
       "        - String, path where to save the model\n",
       "        - `h5py.File` object where to save the model\n",
       "    overwrite: Whether we should overwrite any existing\n",
       "        model at the target location, or instead\n",
       "        ask the user with a manual prompt.\n",
       "    include_optimizer: If True, save optimizer's state together.\n",
       "\n",
       "Raises:\n",
       "    ImportError: if h5py is not available.\n",
       "\u001b[0;31mFile:\u001b[0m      ~/.conda/envs/eng-ml-bootcamp/lib/python3.6/site-packages/tensorflow/python/keras/engine/saving.py\n",
       "\u001b[0;31mType:\u001b[0m      function\n"
      ]
     },
     "metadata": {},
     "output_type": "display_data"
    }
   ],
   "source": [
    "?tf.keras.models.save_model"
   ]
  },
  {
   "cell_type": "code",
   "execution_count": 52,
   "metadata": {
    "collapsed": true
   },
   "outputs": [],
   "source": [
    "model.save('cnn-model.h5')"
   ]
  },
  {
   "cell_type": "code",
   "execution_count": 53,
   "metadata": {},
   "outputs": [
    {
     "name": "stdout",
     "output_type": "stream",
     "text": [
      "WARNING:tensorflow:No training configuration found in save file: the model was *not* compiled. Compile it manually.\n"
     ]
    }
   ],
   "source": [
    "# load in model\n",
    "new_model = tf.keras.models.load_model('cnn-model.h5')"
   ]
  },
  {
   "cell_type": "code",
   "execution_count": 54,
   "metadata": {},
   "outputs": [
    {
     "name": "stdout",
     "output_type": "stream",
     "text": [
      "_________________________________________________________________\n",
      "Layer (type)                 Output Shape              Param #   \n",
      "=================================================================\n",
      "conv2d (Conv2D)              (None, 32, 32, 32)        896       \n",
      "_________________________________________________________________\n",
      "conv2d_1 (Conv2D)            (None, 32, 32, 32)        9248      \n",
      "_________________________________________________________________\n",
      "max_pooling2d (MaxPooling2D) (None, 16, 16, 32)        0         \n",
      "_________________________________________________________________\n",
      "dropout (Dropout)            (None, 16, 16, 32)        0         \n",
      "_________________________________________________________________\n",
      "conv2d_2 (Conv2D)            (None, 16, 16, 64)        18496     \n",
      "_________________________________________________________________\n",
      "conv2d_3 (Conv2D)            (None, 16, 16, 64)        36928     \n",
      "_________________________________________________________________\n",
      "max_pooling2d_1 (MaxPooling2 (None, 8, 8, 64)          0         \n",
      "_________________________________________________________________\n",
      "dropout_1 (Dropout)          (None, 8, 8, 64)          0         \n",
      "_________________________________________________________________\n",
      "flatten (Flatten)            (None, 4096)              0         \n",
      "_________________________________________________________________\n",
      "dense (Dense)                (None, 512)               2097664   \n",
      "_________________________________________________________________\n",
      "dropout_2 (Dropout)          (None, 512)               0         \n",
      "_________________________________________________________________\n",
      "dense_1 (Dense)              (None, 10)                5130      \n",
      "=================================================================\n",
      "Total params: 2,168,362\n",
      "Trainable params: 2,168,362\n",
      "Non-trainable params: 0\n",
      "_________________________________________________________________\n"
     ]
    }
   ],
   "source": [
    "new_model.summary()"
   ]
  }
 ],
 "metadata": {
  "kernelspec": {
   "display_name": "Python 3",
   "language": "python",
   "name": "python3"
  },
  "language_info": {
   "codemirror_mode": {
    "name": "ipython",
    "version": 3
   },
   "file_extension": ".py",
   "mimetype": "text/x-python",
   "name": "python",
   "nbconvert_exporter": "python",
   "pygments_lexer": "ipython3",
   "version": "3.6.8"
  }
 },
 "nbformat": 4,
 "nbformat_minor": 2
}
